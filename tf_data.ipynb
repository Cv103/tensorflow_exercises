{
  "cells": [
    {
      "cell_type": "markdown",
      "metadata": {
        "id": "view-in-github",
        "colab_type": "text"
      },
      "source": [
        "<a href=\"https://colab.research.google.com/github/Cv103/tensorflow_exercises/blob/main/tf_data.ipynb\" target=\"_parent\"><img src=\"https://colab.research.google.com/assets/colab-badge.svg\" alt=\"Open In Colab\"/></a>"
      ]
    },
    {
      "cell_type": "code",
      "execution_count": 1,
      "metadata": {
        "id": "uEczvN6ihrsJ"
      },
      "outputs": [],
      "source": [
        "import numpy as np\n",
        "import matplotlib.pyplot as plt\n",
        "import tensorflow as tf\n",
        "import tensorflow_datasets as tfds"
      ]
    },
    {
      "cell_type": "code",
      "source": [
        "#creating a dataset \n",
        "nums=[68,54,856,56,9,525,56,46]\n",
        "tf_data=tf.data.Dataset.from_tensor_slices(nums)\n",
        "tf_data"
      ],
      "metadata": {
        "colab": {
          "base_uri": "https://localhost:8080/"
        },
        "id": "TEweJIyNPnIR",
        "outputId": "a430f94d-01c7-45b9-9e29-d4ef10eba0ed"
      },
      "execution_count": 2,
      "outputs": [
        {
          "output_type": "execute_result",
          "data": {
            "text/plain": [
              "<TensorSliceDataset shapes: (), types: tf.int32>"
            ]
          },
          "metadata": {},
          "execution_count": 2
        }
      ]
    },
    {
      "cell_type": "code",
      "source": [
        "for i in tf_data:\n",
        "   print(i)\n",
        "   print(i.numpy())"
      ],
      "metadata": {
        "colab": {
          "base_uri": "https://localhost:8080/"
        },
        "id": "WnPsF4CHQIva",
        "outputId": "6e2ea9ef-4158-4ad1-ab16-0bb67cc58ac2"
      },
      "execution_count": 3,
      "outputs": [
        {
          "output_type": "stream",
          "name": "stdout",
          "text": [
            "tf.Tensor(68, shape=(), dtype=int32)\n",
            "68\n",
            "tf.Tensor(54, shape=(), dtype=int32)\n",
            "54\n",
            "tf.Tensor(856, shape=(), dtype=int32)\n",
            "856\n",
            "tf.Tensor(56, shape=(), dtype=int32)\n",
            "56\n",
            "tf.Tensor(9, shape=(), dtype=int32)\n",
            "9\n",
            "tf.Tensor(525, shape=(), dtype=int32)\n",
            "525\n",
            "tf.Tensor(56, shape=(), dtype=int32)\n",
            "56\n",
            "tf.Tensor(46, shape=(), dtype=int32)\n",
            "46\n"
          ]
        }
      ]
    },
    {
      "cell_type": "code",
      "source": [
        "#print only 2 values\n",
        "for i in tf_data.take(2):\n",
        "    print(i)"
      ],
      "metadata": {
        "colab": {
          "base_uri": "https://localhost:8080/"
        },
        "id": "FgDP4e1YQm7E",
        "outputId": "26e6f12f-491b-4182-95f7-fc216a4d2bd0"
      },
      "execution_count": 4,
      "outputs": [
        {
          "output_type": "stream",
          "name": "stdout",
          "text": [
            "tf.Tensor(68, shape=(), dtype=int32)\n",
            "tf.Tensor(54, shape=(), dtype=int32)\n"
          ]
        }
      ]
    },
    {
      "cell_type": "code",
      "source": [
        "#applying filter function to data\n",
        "tf_data=tf_data.filter(lambda x:x>=0)\n",
        "for i in tf_data:\n",
        "    print (i)"
      ],
      "metadata": {
        "colab": {
          "base_uri": "https://localhost:8080/"
        },
        "id": "j2ZzlBgQR_Z3",
        "outputId": "1d62c979-1255-495a-c7e7-5963279432cc"
      },
      "execution_count": 5,
      "outputs": [
        {
          "output_type": "stream",
          "name": "stdout",
          "text": [
            "tf.Tensor(68, shape=(), dtype=int32)\n",
            "tf.Tensor(54, shape=(), dtype=int32)\n",
            "tf.Tensor(856, shape=(), dtype=int32)\n",
            "tf.Tensor(56, shape=(), dtype=int32)\n",
            "tf.Tensor(9, shape=(), dtype=int32)\n",
            "tf.Tensor(525, shape=(), dtype=int32)\n",
            "tf.Tensor(56, shape=(), dtype=int32)\n",
            "tf.Tensor(46, shape=(), dtype=int32)\n"
          ]
        }
      ]
    },
    {
      "cell_type": "code",
      "source": [
        "\n",
        "#applys a function to each element of data\n",
        "tf_data=tf_data.map(lambda x:x*2)\n",
        "for i in tf_data:\n",
        "    print(i)"
      ],
      "metadata": {
        "colab": {
          "base_uri": "https://localhost:8080/"
        },
        "id": "w24H21SLSXhS",
        "outputId": "8e6300ee-c352-461f-fe03-d1edb65fef6c"
      },
      "execution_count": 6,
      "outputs": [
        {
          "output_type": "stream",
          "name": "stdout",
          "text": [
            "tf.Tensor(136, shape=(), dtype=int32)\n",
            "tf.Tensor(108, shape=(), dtype=int32)\n",
            "tf.Tensor(1712, shape=(), dtype=int32)\n",
            "tf.Tensor(112, shape=(), dtype=int32)\n",
            "tf.Tensor(18, shape=(), dtype=int32)\n",
            "tf.Tensor(1050, shape=(), dtype=int32)\n",
            "tf.Tensor(112, shape=(), dtype=int32)\n",
            "tf.Tensor(92, shape=(), dtype=int32)\n"
          ]
        }
      ]
    },
    {
      "cell_type": "code",
      "source": [
        "\n",
        "#shuffles the data\n",
        "tf_data=tf_data.shuffle(buffer_size=3)\n",
        "for i in tf_data:\n",
        "    print(i)"
      ],
      "metadata": {
        "colab": {
          "base_uri": "https://localhost:8080/"
        },
        "id": "CH3_HlwPSnah",
        "outputId": "fcecb826-d168-4dbd-8a7e-b55b319b373c"
      },
      "execution_count": 7,
      "outputs": [
        {
          "output_type": "stream",
          "name": "stdout",
          "text": [
            "tf.Tensor(136, shape=(), dtype=int32)\n",
            "tf.Tensor(112, shape=(), dtype=int32)\n",
            "tf.Tensor(1712, shape=(), dtype=int32)\n",
            "tf.Tensor(108, shape=(), dtype=int32)\n",
            "tf.Tensor(18, shape=(), dtype=int32)\n",
            "tf.Tensor(1050, shape=(), dtype=int32)\n",
            "tf.Tensor(112, shape=(), dtype=int32)\n",
            "tf.Tensor(92, shape=(), dtype=int32)\n"
          ]
        }
      ]
    },
    {
      "cell_type": "code",
      "source": [
        "for i in tf_data.batch(batch_size=2):\n",
        "    print(i)"
      ],
      "metadata": {
        "id": "fABTQcRzTA3J",
        "outputId": "0744310f-f490-472d-ce4f-c7fe579a98e7",
        "colab": {
          "base_uri": "https://localhost:8080/"
        }
      },
      "execution_count": 8,
      "outputs": [
        {
          "output_type": "stream",
          "name": "stdout",
          "text": [
            "tf.Tensor([108 136], shape=(2,), dtype=int32)\n",
            "tf.Tensor([1712   18], shape=(2,), dtype=int32)\n",
            "tf.Tensor([112 112], shape=(2,), dtype=int32)\n",
            "tf.Tensor([  92 1050], shape=(2,), dtype=int32)\n"
          ]
        }
      ]
    },
    {
      "cell_type": "code",
      "source": [
        "\n",
        "#doing the above operations in a single line\n",
        "tf_dataset=tf.data.Dataset.from_tensor_slices(nums)\n",
        "tf_dataset=tf_dataset.filter(lambda x:x>=0).map(lambda y:y*2). shuffle (buffer_size=2)\n",
        "for i in tf_dataset: \n",
        "    print (i)"
      ],
      "metadata": {
        "id": "c8eogY3wUROZ",
        "outputId": "cbf956ed-d09d-46ae-f16a-da254d7e6634",
        "colab": {
          "base_uri": "https://localhost:8080/"
        }
      },
      "execution_count": 9,
      "outputs": [
        {
          "output_type": "stream",
          "name": "stdout",
          "text": [
            "tf.Tensor(136, shape=(), dtype=int32)\n",
            "tf.Tensor(1712, shape=(), dtype=int32)\n",
            "tf.Tensor(108, shape=(), dtype=int32)\n",
            "tf.Tensor(18, shape=(), dtype=int32)\n",
            "tf.Tensor(1050, shape=(), dtype=int32)\n",
            "tf.Tensor(112, shape=(), dtype=int32)\n",
            "tf.Tensor(92, shape=(), dtype=int32)\n",
            "tf.Tensor(112, shape=(), dtype=int32)\n"
          ]
        }
      ]
    },
    {
      "cell_type": "code",
      "source": [
        "f= open(\"abc.txt\",\"w+\")\n",
        "for i in range(10):\n",
        "     f.write(\"This is line %d\\r\\n\" % (i+1))"
      ],
      "metadata": {
        "id": "s3kc_Z-YV8Ew"
      },
      "execution_count": 10,
      "outputs": []
    },
    {
      "cell_type": "code",
      "source": [
        "train, test = tf.keras.datasets.fashion_mnist.load_data()"
      ],
      "metadata": {
        "id": "ufImDbgplKfI"
      },
      "execution_count": 11,
      "outputs": []
    },
    {
      "cell_type": "code",
      "source": [
        "print(train[0].shape)\n",
        "print(\"class : \", train[1][0])\n",
        "plt.imshow(train[0][0])"
      ],
      "metadata": {
        "id": "GHZ4KLdylUHs",
        "outputId": "5840f268-91bf-40fc-ffb6-2feb062e7fd0",
        "colab": {
          "base_uri": "https://localhost:8080/",
          "height": 317
        }
      },
      "execution_count": 12,
      "outputs": [
        {
          "output_type": "stream",
          "name": "stdout",
          "text": [
            "(60000, 28, 28)\n",
            "class :  9\n"
          ]
        },
        {
          "output_type": "execute_result",
          "data": {
            "text/plain": [
              "<matplotlib.image.AxesImage at 0x7f22a5d2f4d0>"
            ]
          },
          "metadata": {},
          "execution_count": 12
        },
        {
          "output_type": "display_data",
          "data": {
            "image/png": "[encoded data removed]",
            "text/plain": [
              "<Figure size 432x288 with 1 Axes>"
            ]
          },
          "metadata": {
            "needs_background": "light"
          }
        }
      ]
    },
    {
      "cell_type": "code",
      "source": [
        "x,y=train\n",
        "print (x.shape,y.shape)\n",
        "dataset=tf.data.Dataset.from_tensor_slices((x,y))"
      ],
      "metadata": {
        "id": "KOd2s5r4lLOL",
        "outputId": "38c89009-91c5-45b6-e899-95782f2d0e60",
        "colab": {
          "base_uri": "https://localhost:8080/"
        }
      },
      "execution_count": 13,
      "outputs": [
        {
          "output_type": "stream",
          "name": "stdout",
          "text": [
            "(60000, 28, 28) (60000,)\n"
          ]
        }
      ]
    },
    {
      "cell_type": "code",
      "source": [
        "for data,label in dataset.take(2):\n",
        "    print(\"data shape : \",data.shape)\n",
        "    print(\"label : \",label.numpy())"
      ],
      "metadata": {
        "id": "m6iq1RjFmzS7",
        "outputId": "38dd41c4-ed4f-45a9-8555-7a211050e329",
        "colab": {
          "base_uri": "https://localhost:8080/"
        }
      },
      "execution_count": 14,
      "outputs": [
        {
          "output_type": "stream",
          "name": "stdout",
          "text": [
            "data shape :  (28, 28)\n",
            "label :  9\n",
            "data shape :  (28, 28)\n",
            "label :  0\n"
          ]
        }
      ]
    },
    {
      "cell_type": "code",
      "source": [
        "for data,label in dataset.take(1):\n",
        "    print(\"label : \",label.numpy())\n",
        "    plt.imshow(data)"
      ],
      "metadata": {
        "id": "vqeMnUnunyjr",
        "outputId": "e11b5813-e66e-4b02-8ece-8f9c2afc595d",
        "colab": {
          "base_uri": "https://localhost:8080/",
          "height": 282
        }
      },
      "execution_count": 15,
      "outputs": [
        {
          "output_type": "stream",
          "name": "stdout",
          "text": [
            "label :  9\n"
          ]
        },
        {
          "output_type": "display_data",
          "data": {
            "image/png": "[encoded data removed]",
            "text/plain": [
              "<Figure size 432x288 with 1 Axes>"
            ]
          },
          "metadata": {
            "needs_background": "light"
          }
        }
      ]
    },
    {
      "cell_type": "code",
      "source": [
        "def normalize_img(image, label):\n",
        "  return tf.cast(image, tf.float32) // 255., label"
      ],
      "metadata": {
        "id": "zzibC4bBoIN0"
      },
      "execution_count": 16,
      "outputs": []
    },
    {
      "cell_type": "code",
      "source": [
        "data=dataset.map(normalize_img)"
      ],
      "metadata": {
        "id": "kYObDFGpqhRY"
      },
      "execution_count": 17,
      "outputs": []
    },
    {
      "cell_type": "code",
      "source": [
        "for x,y in data.take(1):\n",
        "    print(\"blank image because we normalised it took the ceil\")\n",
        "    plt.imshow(x)"
      ],
      "metadata": {
        "id": "R-RB3JQhqqoV",
        "outputId": "ca9dae21-327a-49e4-e457-222e47d5beae",
        "colab": {
          "base_uri": "https://localhost:8080/",
          "height": 282
        }
      },
      "execution_count": 18,
      "outputs": [
        {
          "output_type": "stream",
          "name": "stdout",
          "text": [
            "blank image because we normalised it took the ceil\n"
          ]
        },
        {
          "output_type": "display_data",
          "data": {
            "image/png": "[encoded data removed]",
            "text/plain": [
              "<Figure size 432x288 with 1 Axes>"
            ]
          },
          "metadata": {
            "needs_background": "light"
          }
        }
      ]
    },
    {
      "cell_type": "code",
      "source": [
        "for x,y in dataset.batch(batch_size=3).take(1):\n",
        "    plt.imshow(x[2])"
      ],
      "metadata": {
        "id": "ZmbGTDwzuaf9",
        "outputId": "f311927d-e010-4669-dc39-9c2955d02a81",
        "colab": {
          "base_uri": "https://localhost:8080/",
          "height": 265
        }
      },
      "execution_count": 19,
      "outputs": [
        {
          "output_type": "display_data",
          "data": {
            "image/png": "[encoded data removed]",
            "text/plain": [
              "<Figure size 432x288 with 1 Axes>"
            ]
          },
          "metadata": {
            "needs_background": "light"
          }
        }
      ]
    },
    {
      "cell_type": "code",
      "source": [
        ""
      ],
      "metadata": {
        "id": "dcL9YKi8vG4e"
      },
      "execution_count": null,
      "outputs": []
    },
    {
      "cell_type": "code",
      "source": [
        ""
      ],
      "metadata": {
        "id": "eSkbv37NuMed"
      },
      "execution_count": null,
      "outputs": []
    }
  ],
  "metadata": {
    "colab": {
      "name": "tf_data.ipynb",
      "provenance": [],
      "authorship_tag": "ABX9TyNUe33cPVoTyUdpUxWacfiD",
      "include_colab_link": true
    },
    "kernelspec": {
      "display_name": "Python 3",
      "name": "python3"
    },
    "language_info": {
      "name": "python"
    }
  },
  "nbformat": 4,
  "nbformat_minor": 0
}